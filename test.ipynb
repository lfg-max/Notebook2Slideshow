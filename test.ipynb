{
 "cells": [
  {
   "cell_type": "code",
   "execution_count": 2,
   "metadata": {},
   "outputs": [],
   "source": [
    "import nbformat as nbf\n",
    "\n",
    "# Read the existing notebook\n",
    "NOTEBOOK_PATH = \"/Users/nra29/VScode/GL-AIML/M1_Python_W2_MovieLens_Case_Study.ipynb\"  # Replace with your notebook's path\n",
    "ntbk = nbf.read(NOTEBOOK_PATH, nbf.NO_CONVERT)\n",
    "\n",
    "# Update metadata for each cell to be a slide\n",
    "for i, cell in enumerate(ntbk.cells):\n",
    "    metadata = cell.get(\"metadata\", {})\n",
    "    slideshow = metadata.get(\"slideshow\", {})\n",
    "    slideshow[\"slide_type\"] = \"slide\"  # Set slide type to 'slide'\n",
    "    metadata[\"slideshow\"] = slideshow\n",
    "    cell[\"metadata\"] = metadata\n",
    "\n",
    "# Write the updated notebook back to file\n",
    "nbf.write(ntbk, NOTEBOOK_PATH)"
   ]
  }
 ],
 "metadata": {
  "kernelspec": {
   "display_name": ".venv",
   "language": "python",
   "name": "python3"
  },
  "language_info": {
   "codemirror_mode": {
    "name": "ipython",
    "version": 3
   },
   "file_extension": ".py",
   "mimetype": "text/x-python",
   "name": "python",
   "nbconvert_exporter": "python",
   "pygments_lexer": "ipython3",
   "version": "3.12.0"
  }
 },
 "nbformat": 4,
 "nbformat_minor": 2
}
